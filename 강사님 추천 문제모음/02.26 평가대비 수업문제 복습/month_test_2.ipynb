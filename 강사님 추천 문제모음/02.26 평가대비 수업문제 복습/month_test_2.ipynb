{
 "cells": [
  {
   "cell_type": "code",
   "execution_count": 15,
   "metadata": {},
   "outputs": [
    {
     "name": "stdout",
     "output_type": "stream",
     "text": [
      "[[1, 2, 3], [1, 2, 4], [1, 3, 4], [2, 3, 4], [1, 2, 5], [1, 3, 5], [2, 3, 5], [1, 4, 5], [2, 4, 5], [3, 4, 5], [1, 2, 6], [1, 3, 6], [2, 3, 6], [1, 4, 6], [2, 4, 6], [3, 4, 6], [1, 5, 6], [2, 5, 6], [3, 5, 6], [4, 5, 6], [1, 2, 7], [1, 3, 7], [2, 3, 7], [1, 4, 7], [2, 4, 7], [3, 4, 7], [1, 5, 7], [2, 5, 7], [3, 5, 7], [4, 5, 7], [1, 6, 7], [2, 6, 7], [3, 6, 7], [4, 6, 7], [5, 6, 7], [1, 2, 8], [1, 3, 8], [2, 3, 8], [1, 4, 8], [2, 4, 8], [3, 4, 8], [1, 5, 8], [2, 5, 8], [3, 5, 8], [4, 5, 8], [1, 6, 8], [2, 6, 8], [3, 6, 8], [4, 6, 8], [5, 6, 8], [1, 7, 8], [2, 7, 8], [3, 7, 8], [4, 7, 8], [5, 7, 8], [6, 7, 8], [1, 2, 9], [1, 3, 9], [2, 3, 9], [1, 4, 9], [2, 4, 9], [3, 4, 9], [1, 5, 9], [2, 5, 9], [3, 5, 9], [4, 5, 9], [1, 6, 9], [2, 6, 9], [3, 6, 9], [4, 6, 9], [5, 6, 9], [1, 7, 9], [2, 7, 9], [3, 7, 9], [4, 7, 9], [5, 7, 9], [6, 7, 9], [1, 8, 9], [2, 8, 9], [3, 8, 9], [4, 8, 9], [5, 8, 9], [6, 8, 9], [7, 8, 9], [1, 2, 10], [1, 3, 10], [2, 3, 10], [1, 4, 10], [2, 4, 10], [3, 4, 10], [1, 5, 10], [2, 5, 10], [3, 5, 10], [4, 5, 10], [1, 6, 10], [2, 6, 10], [3, 6, 10], [4, 6, 10], [5, 6, 10], [1, 7, 10], [2, 7, 10], [3, 7, 10], [4, 7, 10], [5, 7, 10], [6, 7, 10], [1, 8, 10], [2, 8, 10], [3, 8, 10], [4, 8, 10], [5, 8, 10], [6, 8, 10], [7, 8, 10], [1, 9, 10], [2, 9, 10], [3, 9, 10], [4, 9, 10], [5, 9, 10], [6, 9, 10], [7, 9, 10], [8, 9, 10], [1, 2, 11], [1, 3, 11], [2, 3, 11], [1, 4, 11], [2, 4, 11], [3, 4, 11], [1, 5, 11], [2, 5, 11], [3, 5, 11], [4, 5, 11], [1, 6, 11], [2, 6, 11], [3, 6, 11], [4, 6, 11], [5, 6, 11], [1, 7, 11], [2, 7, 11], [3, 7, 11], [4, 7, 11], [5, 7, 11], [6, 7, 11], [1, 8, 11], [2, 8, 11], [3, 8, 11], [4, 8, 11], [5, 8, 11], [6, 8, 11], [7, 8, 11], [1, 9, 11], [2, 9, 11], [3, 9, 11], [4, 9, 11], [5, 9, 11], [6, 9, 11], [7, 9, 11], [8, 9, 11], [1, 10, 11], [2, 10, 11], [3, 10, 11], [4, 10, 11], [5, 10, 11], [6, 10, 11], [7, 10, 11], [8, 10, 11], [9, 10, 11], [1, 2, 12], [1, 3, 12], [2, 3, 12], [1, 4, 12], [2, 4, 12], [3, 4, 12], [1, 5, 12], [2, 5, 12], [3, 5, 12], [4, 5, 12], [1, 6, 12], [2, 6, 12], [3, 6, 12], [4, 6, 12], [5, 6, 12], [1, 7, 12], [2, 7, 12], [3, 7, 12], [4, 7, 12], [5, 7, 12], [6, 7, 12], [1, 8, 12], [2, 8, 12], [3, 8, 12], [4, 8, 12], [5, 8, 12], [6, 8, 12], [7, 8, 12], [1, 9, 12], [2, 9, 12], [3, 9, 12], [4, 9, 12], [5, 9, 12], [6, 9, 12], [7, 9, 12], [8, 9, 12], [1, 10, 12], [2, 10, 12], [3, 10, 12], [4, 10, 12], [5, 10, 12], [6, 10, 12], [7, 10, 12], [8, 10, 12], [9, 10, 12], [1, 11, 12], [2, 11, 12], [3, 11, 12], [4, 11, 12], [5, 11, 12], [6, 11, 12], [7, 11, 12], [8, 11, 12], [9, 11, 12], [10, 11, 12]]\n"
     ]
    }
   ],
   "source": [
    "# 부분집합 구하는 함수 ! - Bit 연산 활용\n",
    "def cal_subset(arr,n):\n",
    "    subset_list = [] # 구한 부분집합을 담을 빈 리스트\n",
    "    for i in range(1<<len(arr)): # 부분집합을 추출할 리스트의 개수\n",
    "        mid_subset = [] # 부분집합을 담기 위한 중간단계 역할을 할 빈 리스트\n",
    "        for j in range(len(arr)):\n",
    "            if i & (1<<j):\n",
    "                mid_subset += [arr[j]]\n",
    "        if len(mid_subset) == n:\n",
    "            subset_list += [mid_subset]\n",
    "    return subset_list\n",
    "\n",
    "A = list(range(1,13)) # 1부터 12까지의 자연수로 이루어진 리스트\n",
    "print(cal_subset(A,3))"
   ]
  },
  {
   "cell_type": "code",
   "execution_count": null,
   "metadata": {},
   "outputs": [],
   "source": [
    "# 종이붙이기 문제, 창고털기 문제 등 .. 규칙을 찾는것 정답일수 있음 (점화식)\n",
    "total = [0] * 31\n",
    "total[1] = 1\n",
    "total[2] = 3\n",
    "for k in range(3,31):\n",
    "    total[k] = total[k-1] + 2*total[k-2]\n",
    "\n",
    "T = int(input())\n",
    "for tc in range(1,T+1):\n",
    "    N = int(input())\n",
    "    print(f\"#{tc} {total[N//10]}\")\n",
    "#이것처럼"
   ]
  },
  {
   "cell_type": "code",
   "execution_count": null,
   "metadata": {},
   "outputs": [],
   "source": [
    "# DFS 식 세울 때, 미로를 찾는 경우라면 stack이 비어있는 것으로 시작하자.\n",
    "# 물론 스택에 넣고 시작할 순 있는데, 나는 그 방법이 실수가 많음\n",
    "def find_start(maze):\n",
    "    for i in range(N):\n",
    "        for j in range(N):\n",
    "            if maze[i][j] == '2':\n",
    "                return i,j\n",
    "def find_end(maze):\n",
    "    for i in range(N):\n",
    "        for j in range(N):\n",
    "            if maze[i][j] == '3':\n",
    "                return i, j\n",
    "def DFS(start_i, start_j):\n",
    "    now_i = start_i\n",
    "    now_j = start_j\n",
    "    stack_i = []\n",
    "    stack_j = []\n",
    "    while True:\n",
    "        for dir in range(4):\n",
    "            move_i = now_i+di[dir]\n",
    "            move_j = now_j+dj[dir]\n",
    "            if 0<=move_i<=N-1 and 0<=move_j<=N-1 and maze[move_i][move_j] == '3':\n",
    "                return 1\n",
    "            if 0<=move_i<=N-1 and 0<=move_j<=N-1 and maze[move_i][move_j] != '1':\n",
    "                stack_i += [now_i]\n",
    "                stack_j += [now_j]\n",
    "                now_i = move_i\n",
    "                now_j = move_j\n",
    "                maze[now_i][now_j] = '1'\n",
    "                break\n",
    "        else:\n",
    "            if stack_i == []:\n",
    "                return 0\n",
    "            else:\n",
    "                now_i = stack_i.pop()\n",
    "                now_j = stack_j.pop()\n",
    "\n",
    "di = [-1,1,0,0] # 상 하 좌 우\n",
    "dj = [0,0,-1,1]\n",
    "T = int(input())\n",
    "for tc in range(1,T+1):\n",
    "    N = int(input())\n",
    "    maze = []\n",
    "    for _ in range(N):\n",
    "        maze += [list(input())]\n",
    "    start_i, start_j = find_start(maze)\n",
    "    end_i, end_j = find_end(maze)\n",
    "    print(f\"#{tc} {DFS(start_i, start_j)}\")"
   ]
  },
  {
   "cell_type": "markdown",
   "metadata": {},
   "source": [
    "# 중위 표기법\n",
    "- 우리가 잘 아는 식으로, 연산자를 피연산자의 가운데 표기하는 방법\n",
    "- Ex. A+B\n",
    "\n",
    "# 후위 표기법\n",
    "- 연산자를 피연산자 뒤에 표기하는 방법이다.\n",
    "- Ex. AB +"
   ]
  },
  {
   "cell_type": "code",
   "execution_count": 34,
   "metadata": {},
   "outputs": [
    {
     "name": "stdout",
     "output_type": "stream",
     "text": [
      "['6', '5', '2', '8', '-', '*', '2', '/', '+']\n"
     ]
    }
   ],
   "source": [
    "# 중위 표기법을 후위 표기법으로 바꾸는 과정\n",
    "# Ex. (6 + 5 * (2 - 8) / 2)\n",
    "example = '(6+5*(2-8)/2)'\n",
    "example = list(example)\n",
    "isp = {'(':0,'+':1,'-':1,'*':2,'/':2}\n",
    "icp = {'(':3,'+':1,'-':1,'*':2,'/':2}\n",
    "stack = []\n",
    "result = []\n",
    "def change_example(example):\n",
    "    global stack\n",
    "    global result\n",
    "    for k in range(len(example)):\n",
    "        if example[k] == ')':\n",
    "            while True:\n",
    "                if stack[-1] != '(':\n",
    "                    result += [stack.pop()]\n",
    "                elif stack[-1] == '(':\n",
    "                    stack.pop()\n",
    "                    break\n",
    "        elif example[k] not in ['*','/','(','+','-']:\n",
    "            result += [example[k]]\n",
    "        elif stack == [] and example[k] in ['*','/','(','+','-']:\n",
    "            stack += [example[k]]\n",
    "        elif stack != [] and isp[stack[-1]] < icp[example[k]]:\n",
    "            stack += [example[k]]\n",
    "        elif stack != [] and isp[stack[-1]] >= icp[example[k]]:\n",
    "            while True:\n",
    "                result += stack.pop()\n",
    "                if isp[stack[-1]] < icp[example[k]]:\n",
    "                    break\n",
    "            stack += example[k]\n",
    "        elif stack != [] and isp[stack[-1]] >= icp[example[k]]:\n",
    "            result += stack.pop()\n",
    "\n",
    "    return\n",
    "change_example(example)\n",
    "print(result)\n",
    "        "
   ]
  },
  {
   "cell_type": "code",
   "execution_count": 41,
   "metadata": {},
   "outputs": [
    {
     "name": "stdout",
     "output_type": "stream",
     "text": [
      "[]\n",
      "['6']\n",
      "['6', '5']\n",
      "['6', '5', '2']\n",
      "['6', '5', '2', '8']\n",
      "['6', '5', -6]\n",
      "['6', -30]\n",
      "['6', -30, '2']\n",
      "['6', -15.0]\n",
      "[-9]\n"
     ]
    }
   ],
   "source": [
    "# 후위표기법 계산하는 방법\n",
    "example = ['6', '5', '2', '8', '-', '*', '2', '/', '+']\n",
    "stack = []\n",
    "result = []\n",
    "for k in range(len(example)):\n",
    "    print(stack)\n",
    "    if example[k] not in ['+','-','*','/']:\n",
    "        stack += [example[k]]\n",
    "    else:\n",
    "        b = int(stack.pop())\n",
    "        a = int(stack.pop())\n",
    "        if example[k] == '+':\n",
    "            stack += [a+b]\n",
    "        elif example[k] == '-':\n",
    "            stack += [a-b]\n",
    "        elif example[k] == '/':\n",
    "            stack += [a/b]\n",
    "        elif example[k] == '*':\n",
    "            stack += [a*b]\n",
    "print(stack)"
   ]
  },
  {
   "cell_type": "code",
   "execution_count": 47,
   "metadata": {},
   "outputs": [
    {
     "name": "stdout",
     "output_type": "stream",
     "text": [
      "#1 84\n",
      "#2 error\n",
      "#3 168\n"
     ]
    }
   ],
   "source": [
    "# 4874.Forth\n",
    "# 후위표기법 계산하는 방법\n",
    "'''\n",
    "숫자는 스택에 쌓고\n",
    "연산자를 만나면 스택에 쌓여있는 두개를 뽑아 (먼저 뽑은 것 b, 후에 뽑은 것 a)\n",
    "이를 연산한다.\n",
    "'''\n",
    "'''\n",
    "3\n",
    "10 2 + 3 4 + * .\n",
    "5 3 * + .\n",
    "1 5 8 10 3 4 + + 3 + * 2 + + + .\n",
    "'''\n",
    "T = int(input())\n",
    "for tc in range(1,T+1):\n",
    "    example = list(input().split())\n",
    "    example.pop()\n",
    "    stack = []\n",
    "    result = []\n",
    "    for k in range(len(example)):\n",
    "        try:\n",
    "            if example[k] not in ['+','-','*','/']:\n",
    "                stack += [example[k]]\n",
    "            else:\n",
    "                b = int(stack.pop())\n",
    "                a = int(stack.pop())\n",
    "                if example[k] == '+':\n",
    "                    stack += [a+b]\n",
    "                elif example[k] == '-':\n",
    "                    stack += [a-b]\n",
    "                elif example[k] == '/':\n",
    "                    stack += [a/b]\n",
    "                elif example[k] == '*':\n",
    "                    stack += [a*b]\n",
    "        except:\n",
    "            stack = []\n",
    "            break\n",
    "\n",
    "    if len(stack) == 1:\n",
    "        print(f\"#{tc} {int(stack[-1])}\")\n",
    "    else:\n",
    "        print(f\"#{tc} error\")"
   ]
  }
 ],
 "metadata": {
  "kernelspec": {
   "display_name": "Python 3",
   "language": "python",
   "name": "python3"
  },
  "language_info": {
   "codemirror_mode": {
    "name": "ipython",
    "version": 3
   },
   "file_extension": ".py",
   "mimetype": "text/x-python",
   "name": "python",
   "nbconvert_exporter": "python",
   "pygments_lexer": "ipython3",
   "version": "3.11.8"
  }
 },
 "nbformat": 4,
 "nbformat_minor": 2
}
